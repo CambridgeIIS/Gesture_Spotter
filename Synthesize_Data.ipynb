{
 "cells": [
  {
   "cell_type": "code",
   "execution_count": null,
   "metadata": {},
   "outputs": [],
   "source": [
    "from synthesis_data import *\n",
    "import os\n",
    "os.environ[\"CUDA_VISIBLE_DEVICES\"] = \"1\"\n",
    "# update +++++++++\n",
    "num_synthetic_data = 20\n",
    "data_path = '/desktop/KGS/kgs_online_slim/data/logs/*.csv'\n",
    "path_to_saved_model = '/desktop/GAN_DE_gestures/20210212-173019/res/model/generator_g_1'\n",
    "save_path = 'synthetic_data/'\n",
    "# update +++++++++\n",
    "synthesis_data(num_synthetic_data,data_path, path_to_saved_model,save_path)\n",
    "\n",
    "\n",
    "\n",
    "\n"
   ]
  },
  {
   "cell_type": "code",
   "execution_count": null,
   "metadata": {},
   "outputs": [],
   "source": []
  }
 ],
 "metadata": {
  "kernelspec": {
   "display_name": "Python 3",
   "language": "python",
   "name": "python3"
  },
  "language_info": {
   "codemirror_mode": {
    "name": "ipython",
    "version": 3
   },
   "file_extension": ".py",
   "mimetype": "text/x-python",
   "name": "python",
   "nbconvert_exporter": "python",
   "pygments_lexer": "ipython3",
   "version": "3.8.5"
  }
 },
 "nbformat": 4,
 "nbformat_minor": 4
}
