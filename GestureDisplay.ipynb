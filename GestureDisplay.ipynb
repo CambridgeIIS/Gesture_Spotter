{
 "cells": [
  {
   "cell_type": "code",
   "execution_count": null,
   "metadata": {},
   "outputs": [],
   "source": [
    "import numpy as np\n",
    "%matplotlib notebook\n",
    "import matplotlib.pyplot as plt\n",
    "from matplotlib.animation import FuncAnimation\n",
    "from mpl_toolkits.mplot3d import Axes3D\n",
    "from scipy.spatial.transform import Rotation as R\n",
    "import pandas as pd"
   ]
  },
  {
   "cell_type": "code",
   "execution_count": null,
   "metadata": {},
   "outputs": [],
   "source": []
  },
  {
   "cell_type": "code",
   "execution_count": null,
   "metadata": {
    "scrolled": true
   },
   "outputs": [],
   "source": [
    "\n",
    "data_file = \"\"\n",
    "data = pd.read_csv(data_file)\n",
    "data_copy = data\n",
    "#data = np.genfromtxt(data_file, dtype=float, delimiter=',', names=True)"
   ]
  },
  {
   "cell_type": "code",
   "execution_count": null,
   "metadata": {},
   "outputs": [],
   "source": [
    "data_empty=[]\n",
    "for index, row in data.iterrows():\n",
    "    r, coord_data  = quatenion_to_transform(row)\n",
    "    names = coord_data.index\n",
    "    joints =  np.array(np.split(coord_data, np.arange(4, len(coord_data), 4)))\n",
    "    transformed = np.matmul(r, joints.T).T.flatten()\n",
    "    trans_series = pd.Series(transformed, index=names)\n",
    "    data_empty.append(trans_series)"
   ]
  },
  {
   "cell_type": "code",
   "execution_count": null,
   "metadata": {},
   "outputs": [],
   "source": [
    "data = pd.concat(data_empty, axis=1).T.drop('dummy', axis=1)"
   ]
  },
  {
   "cell_type": "code",
   "execution_count": null,
   "metadata": {},
   "outputs": [],
   "source": [
    "data[\"wrs_x\"] = data_copy['wrs_x']\n",
    "data[\"wrs_y\"] = data_copy['wrs_y']\n",
    "data[\"wrs_z\"] = data_copy['wrs_z']"
   ]
  },
  {
   "cell_type": "code",
   "execution_count": null,
   "metadata": {
    "scrolled": true
   },
   "outputs": [],
   "source": [
    "fig = plt.figure(figsize=(8,8))\n",
    "ax = fig.add_subplot(projection='3d')\n",
    "\n",
    "ax.set_xlim3d([-0.5, 0.5])\n",
    "ax.set_ylim3d([-0.2, 0.2])\n",
    "ax.set_zlim3d([-0.2, 0.2])\n",
    "ax.set_xlabel('X')\n",
    "ax.set_ylabel('Z')\n",
    "ax.set_zlabel('Y')\n",
    "\n",
    "#initialising all joints\n",
    "wrist_pos = ax.plot3D([data[\"wrs_x\"][0]], [data[\"wrs_z\"][0]], [data[\"wrs_y\"][0]], marker=\"x\")[0]\n",
    "\n",
    "backbone_1, = ax.plot3D([data[\"wrs_x\"][0], data[\"in1_x\"][0]], [data[\"wrs_z\"][0], data[\"in1_z\"][0]], [data[\"wrs_y\"][0], data[\"in1_y\"][0]], 'go-', ms=2)\n",
    "backbone_2, = ax.plot3D([data[\"wrs_x\"][0], data[\"mi1_x\"][0]], [data[\"wrs_z\"][0], data[\"mi1_z\"][0]], [data[\"wrs_y\"][0], data[\"mi1_y\"][0]], 'ro-', ms=2)\n",
    "\n",
    "pinky_0_1, = ax.plot3D([data[\"pi0_x\"][0], data[\"pi1_x\"][0]], [data[\"pi0_z\"][0], data[\"pi1_z\"][0]], [data[\"pi0_y\"][0], data[\"pi1_y\"][0]], 'yo-', ms=2)\n",
    "pinky_1_2, = ax.plot3D([data[\"pi1_x\"][0], data[\"pi2_x\"][0]], [data[\"pi1_z\"][0], data[\"pi2_z\"][0]], [data[\"pi1_y\"][0], data[\"pi2_y\"][0]], 'yo-', ms=2)\n",
    "pinky_2_3, = ax.plot3D([data[\"pi2_x\"][0], data[\"pi3_x\"][0]], [data[\"pi2_z\"][0], data[\"pi3_z\"][0]], [data[\"pi2_y\"][0], data[\"pi3_y\"][0]], 'yo-', ms=2)\n",
    "pinky_3_4, = ax.plot3D([data[\"pi3_x\"][0], data[\"pi4_x\"][0]], [data[\"pi3_z\"][0], data[\"pi4_z\"][0]], [data[\"pi3_y\"][0], data[\"pi4_y\"][0]], 'yo-', ms=2)\n",
    "\n",
    "backbone_3, = ax.plot3D([data[\"wrs_x\"][0], data[\"ri1_x\"][0]], [data[\"wrs_z\"][0], data[\"ri1_z\"][0]], [data[\"wrs_y\"][0], data[\"ri1_y\"][0]], 'co-', ms=2)\n",
    "ring_1_2, = ax.plot3D([data[\"ri1_x\"][0], data[\"ri2_x\"][0]], [data[\"ri1_z\"][0], data[\"ri2_z\"][0]], [data[\"ri1_y\"][0], data[\"ri2_y\"][0]], 'co-', ms=2)\n",
    "ring_2_3, = ax.plot3D([data[\"ri2_x\"][0], data[\"ri3_x\"][0]], [data[\"ri2_z\"][0], data[\"ri3_z\"][0]], [data[\"ri2_y\"][0], data[\"ri3_y\"][0]], 'co-', ms=2)\n",
    "ring_3_4, = ax.plot3D([data[\"ri3_x\"][0], data[\"ri4_x\"][0]], [data[\"ri3_z\"][0], data[\"ri4_z\"][0]], [data[\"ri3_y\"][0], data[\"ri4_y\"][0]], 'co-', ms=2)\n",
    "\n",
    "mid_1_2, = ax.plot3D([data[\"mi1_x\"][0], data[\"mi2_x\"][0]], [data[\"mi1_z\"][0], data[\"mi2_z\"][0]], [data[\"mi1_y\"][0], data[\"mi2_y\"][0]], 'ro-', ms=2)\n",
    "mid_2_3, = ax.plot3D([data[\"mi2_x\"][0], data[\"mi3_x\"][0]], [data[\"mi2_z\"][0], data[\"mi3_z\"][0]], [data[\"mi2_y\"][0], data[\"mi3_y\"][0]], 'ro-', ms=2)\n",
    "mid_3_4, = ax.plot3D([data[\"mi3_x\"][0], data[\"mi4_x\"][0]], [data[\"mi3_z\"][0], data[\"mi4_z\"][0]], [data[\"mi3_y\"][0], data[\"mi4_y\"][0]], 'ro-', ms=2)\n",
    "backbone_2, = ax.plot3D([data[\"wrs_x\"][0], data[\"mi1_x\"][0]], [data[\"wrs_z\"][0], data[\"mi1_z\"][0]], [data[\"wrs_y\"][0], data[\"mi1_y\"][0]], 'ro-', ms=2)\n",
    "\n",
    "index_1_2, = ax.plot3D([data[\"in1_x\"][0], data[\"in2_x\"][0]], [data[\"in1_z\"][0], data[\"in2_z\"][0]], [data[\"in1_y\"][0], data[\"in2_y\"][0]], 'go-', ms=2)\n",
    "index_2_3, = ax.plot3D([data[\"in2_x\"][0], data[\"in3_x\"][0]], [data[\"in2_z\"][0], data[\"in3_z\"][0]], [data[\"in2_y\"][0], data[\"in3_y\"][0]], 'go-', ms=2)\n",
    "index_3_4, = ax.plot3D([data[\"in3_x\"][0], data[\"in4_x\"][0]], [data[\"in3_z\"][0], data[\"in4_z\"][0]], [data[\"in3_y\"][0], data[\"in4_y\"][0]], 'go-', ms=2)\n",
    "backbone_1, = ax.plot3D([data[\"wrs_x\"][0], data[\"in1_x\"][0]], [data[\"wrs_z\"][0], data[\"in1_z\"][0]], [data[\"wrs_y\"][0], data[\"in1_y\"][0]], 'go-', ms=2)\n",
    "\n",
    "thumb_0_1, = ax.plot3D([data[\"th0_x\"][0], data[\"th1_x\"][0]], [data[\"th0_z\"][0], data[\"th1_z\"][0]], [data[\"th0_y\"][0], data[\"th1_y\"][0]], 'bo-', ms=2)\n",
    "thumb_1_2, = ax.plot3D([data[\"th1_x\"][0], data[\"th2_x\"][0]], [data[\"th1_z\"][0], data[\"th2_z\"][0]], [data[\"th1_y\"][0], data[\"th2_y\"][0]], 'bo-', ms=2)\n",
    "thumb_2_3, = ax.plot3D([data[\"th2_x\"][0], data[\"th3_x\"][0]], [data[\"th2_z\"][0], data[\"th3_z\"][0]], [data[\"th2_y\"][0], data[\"th3_y\"][0]], 'bo-', ms=2)\n",
    "thumb_3_4, = ax.plot3D([data[\"th3_x\"][0], data[\"th4_x\"][0]], [data[\"th3_z\"][0], data[\"th4_z\"][0]], [data[\"th3_y\"][0], data[\"th4_y\"][0]], 'bo-', ms=2)\n",
    "\n",
    "def update_lines(i):\n",
    "    wrist_pos.set_data_3d(data[\"wrs_x\"][i], data[\"wrs_z\"][i], data[\"wrs_y\"][i])\n",
    "    \n",
    "    pinky_0_1.set_data_3d([data[\"pi0_x\"][i], data[\"pi1_x\"][i]], [data[\"pi0_z\"][i], data[\"pi1_z\"][i]], [data[\"pi0_y\"][i], data[\"pi1_y\"][i]])\n",
    "    pinky_1_2.set_data_3d([data[\"pi1_x\"][i], data[\"pi2_x\"][i]], [data[\"pi1_z\"][i], data[\"pi2_z\"][i]], [data[\"pi1_y\"][i], data[\"pi2_y\"][i]])\n",
    "    pinky_2_3.set_data_3d([data[\"pi2_x\"][i], data[\"pi3_x\"][i]], [data[\"pi2_z\"][i], data[\"pi3_z\"][i]], [data[\"pi2_y\"][i], data[\"pi3_y\"][i]])\n",
    "    pinky_3_4.set_data_3d([data[\"pi3_x\"][i], data[\"pi4_x\"][i]], [data[\"pi3_z\"][i], data[\"pi4_z\"][i]], [data[\"pi3_y\"][i], data[\"pi4_y\"][i]])\n",
    "\n",
    "    ring_1_2.set_data_3d([data[\"ri1_x\"][i], data[\"ri2_x\"][i]], [data[\"ri1_z\"][i], data[\"ri2_z\"][i]], [data[\"ri1_y\"][i], data[\"ri2_y\"][i]])\n",
    "    ring_2_3.set_data_3d([data[\"ri2_x\"][i], data[\"ri3_x\"][i]], [data[\"ri2_z\"][i], data[\"ri3_z\"][i]], [data[\"ri2_y\"][i], data[\"ri3_y\"][i]])\n",
    "    ring_3_4.set_data_3d([data[\"ri3_x\"][i], data[\"ri4_x\"][i]], [data[\"ri3_z\"][i], data[\"ri4_z\"][i]], [data[\"ri3_y\"][i], data[\"ri4_y\"][i]])\n",
    "    backbone_3.set_data_3d([data[\"wrs_x\"][i], data[\"ri1_x\"][i]], [data[\"wrs_z\"][i], data[\"ri1_z\"][i]], [data[\"wrs_y\"][i], data[\"ri1_y\"][i]])\n",
    "    \n",
    "    mid_1_2.set_data_3d([data[\"mi1_x\"][i], data[\"mi2_x\"][i]], [data[\"mi1_z\"][i], data[\"mi2_z\"][i]], [data[\"mi1_y\"][i], data[\"mi2_y\"][i]])\n",
    "    mid_2_3.set_data_3d([data[\"mi2_x\"][i], data[\"mi3_x\"][i]], [data[\"mi2_z\"][i], data[\"mi3_z\"][i]], [data[\"mi2_y\"][i], data[\"mi3_y\"][i]])\n",
    "    mid_3_4.set_data_3d([data[\"mi3_x\"][i], data[\"mi4_x\"][i]], [data[\"mi3_z\"][i], data[\"mi4_z\"][i]], [data[\"mi3_y\"][i], data[\"mi4_y\"][i]])\n",
    "    backbone_2.set_data_3d([data[\"wrs_x\"][i], data[\"mi1_x\"][i]], [data[\"wrs_z\"][i], data[\"mi1_z\"][i]], [data[\"wrs_y\"][i], data[\"mi1_y\"][i]])\n",
    "    \n",
    "    index_1_2.set_data_3d([data[\"in1_x\"][i], data[\"in2_x\"][i]], [data[\"in1_z\"][i], data[\"in2_z\"][i]], [data[\"in1_y\"][i], data[\"in2_y\"][i]])\n",
    "    index_2_3.set_data_3d([data[\"in2_x\"][i], data[\"in3_x\"][i]], [data[\"in2_z\"][i], data[\"in3_z\"][i]], [data[\"in2_y\"][i], data[\"in3_y\"][i]])\n",
    "    index_3_4.set_data_3d([data[\"in3_x\"][i], data[\"in4_x\"][i]], [data[\"in3_z\"][i], data[\"in4_z\"][i]], [data[\"in3_y\"][i], data[\"in4_y\"][i]])\n",
    "    backbone_1.set_data_3d([data[\"wrs_x\"][i], data[\"in1_x\"][i]], [data[\"wrs_z\"][i], data[\"in1_z\"][i]], [data[\"wrs_y\"][i], data[\"in1_y\"][i]])\n",
    "    \n",
    "    thumb_0_1.set_data_3d([data[\"th0_x\"][i], data[\"th1_x\"][i]], [data[\"th0_z\"][i], data[\"th1_z\"][i]], [data[\"th0_y\"][i], data[\"th1_y\"][i]])\n",
    "    thumb_1_2.set_data_3d([data[\"th1_x\"][i], data[\"th2_x\"][i]], [data[\"th1_z\"][i], data[\"th2_z\"][i]], [data[\"th1_y\"][i], data[\"th2_y\"][i]])\n",
    "    thumb_2_3.set_data_3d([data[\"th2_x\"][i], data[\"th3_x\"][i]], [data[\"th2_z\"][i], data[\"th3_z\"][i]], [data[\"th2_y\"][i], data[\"th3_y\"][i]])\n",
    "    thumb_3_4.set_data_3d([data[\"th3_x\"][i], data[\"th4_x\"][i]], [data[\"th3_z\"][i], data[\"th4_z\"][i]], [data[\"th3_y\"][i], data[\"th4_y\"][i]])\n"
   ]
  },
  {
   "cell_type": "code",
   "execution_count": null,
   "metadata": {},
   "outputs": [],
   "source": [
    "anim = FuncAnimation(fig, update_lines, 1000, interval=10, blit=True)\n",
    "plt.show()"
   ]
  },
  {
   "cell_type": "code",
   "execution_count": null,
   "metadata": {},
   "outputs": [],
   "source": []
  },
  {
   "cell_type": "code",
   "execution_count": null,
   "metadata": {},
   "outputs": [],
   "source": []
  },
  {
   "cell_type": "code",
   "execution_count": null,
   "metadata": {},
   "outputs": [],
   "source": []
  }
 ],
 "metadata": {
  "kernelspec": {
   "display_name": "Python 3",
   "language": "python",
   "name": "python3"
  },
  "language_info": {
   "codemirror_mode": {
    "name": "ipython",
    "version": 3
   },
   "file_extension": ".py",
   "mimetype": "text/x-python",
   "name": "python",
   "nbconvert_exporter": "python",
   "pygments_lexer": "ipython3",
   "version": "3.8.5"
  }
 },
 "nbformat": 4,
 "nbformat_minor": 5
}
